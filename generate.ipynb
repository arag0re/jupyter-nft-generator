{
 "cells": [
  {
   "cell_type": "code",
   "execution_count": 65,
   "source": [
    "from PIL import Image \n",
    "from IPython.display import display \n",
    "import random\n",
    "import json"
   ],
   "outputs": [],
   "metadata": {}
  },
  {
   "cell_type": "code",
   "execution_count": 66,
   "source": [
    "# Each image is made up a series of traits\n",
    "# The weightings for each trait drive the rarity and add up to 100%\n",
    "leaderpunk = [\"LeaderPunk\"]\n",
    "leaderpunk_weights = [100]\n",
    "\n",
    "background_color = [\"Blue\", \"Baby-Blue\", \"Bright-Pink\", \"Bright-Purple\", \"Bright-Red\", \"Bright-Violet\", \"Dark-Green\", \"Dark-Lilac\", \"Dark-Pink\", \"Dirt\", \"Gray\", \"Green\", \"Light-Blue\", \"Light-Dirt\", \"Lilac\", \"Lime-Green\", \"Mint\", \"Ochre\", \"Orange\", \"Pastel-Blue\", \"Pastel-Lilac\", \"Pastel-Orange\", \"Pastel-Purple\", \"Pastel-Violet\", \"Pink\", \"Purple\", \"Red\", \"Sunshine-Yellow\", \"Toxic-Green\", \"White\", \"Wine-Red\", \"Yellow\"] \n",
    "background_color_weights = [5, 1, 3, 1, 2, 4, 3, 3, 8, 10, 2, 3, 5, 5, 4, 4, 3 ,4 , 6, 2, 1, 1, 2, 5, 2, 1, 1, 1, 1, 2, 1, 4 ]\n",
    "\n",
    "hat = [\"Green\", \"Purple\", \"Red\", \"Yellow\"] \n",
    "hat_weights = [50, 20, 10, 20]\n",
    "\n",
    "necklace = [\"Amber\", \"Amethyst\", \"Lapislazuli\", \"Ruby\", \"Smaragd\"] \n",
    "necklace_weights = [30, 40, 5, 20, 5]\n",
    "\n",
    "# Dictionary variable for each trait. \n",
    "# Eech trait corresponds to its file name\n",
    "\n",
    "background_color_files = {\n",
    "    \"Blue\": \"blue\",\n",
    "    \"Baby-Blue\": \"baby-blue\",\n",
    "    \"Bright-Pink\": \"bright-pink\",\n",
    "    \"Bright-Purple\": \"bright-purple\",\n",
    "    \"Bright-Red\": \"bright-red\",\n",
    "    \"Bright-Violet\": \"bright-violet\",\n",
    "    \"Dark-Green\": \"dark-green\",\n",
    "    \"Dark-Lilac\": \"dark-lilac\",\n",
    "    \"Dark-Pink\": \"dark-pink\",\n",
    "    \"Dirt\": \"dirt\", \n",
    "    \"Gray\": \"gray\",\n",
    "    \"Green\": \"green\",\n",
    "    \"Light-Blue\": \"light-blue\",\n",
    "    \"Light-Dirt\": \"light-dirt\",\n",
    "    \"Light-Yellow\": \"light-yellow\",\n",
    "    \"Lilac\": \"lilac\",\n",
    "    \"Lime-Green\": \"lime-green\",\n",
    "    \"Mint\": \"mint\",\n",
    "    \"Ochre\": \"ochre\",\n",
    "    \"Orange\": \"orange\",\n",
    "    \"Pastel-Blue\": \"pastel-blue\",\n",
    "    \"Pastel-Lilac\": \"pastel-lilac\",\n",
    "    \"Pastel-Orange\": \"pastel-orange\",\n",
    "    \"Pastel-Purple\": \"pastel-purple\",\n",
    "    \"Pastel-Violet\": \"pastel-violet\",\n",
    "    \"Pink\": \"pink\",\n",
    "    \"Purple\": \"purple\",\n",
    "    \"Red\": \"red\",\n",
    "    \"Sunshine-Yellow\": \"sunshine-yellow\",\n",
    "    \"Toxic-Green\": \"toxic-green\",\n",
    "    \"White\": \"white\",\n",
    "    \"Wine-Red\": \"wine-red\",\n",
    "    \"Yellow\": \"yellow\",\n",
    "}\n",
    "\n",
    "leaderpunk_files = {\n",
    "    \"LeaderPunk\": \"leaderpunk\"\n",
    "}\n",
    "\n",
    "hat_files = {\n",
    "    \"Green\": \"green-hat\",\n",
    "    \"Purple\": \"purple-hat\",\n",
    "    \"Red\": \"red-hat\",\n",
    "    \"Yellow\": \"yellow-hat\"   \n",
    "}\n",
    "\n",
    "necklace_files = {\n",
    "    \"Amber\": \"amber-necklace\",\n",
    "    \"Amethyst\": \"amethyst-necklace\",\n",
    "    \"Lapislazuli\": \"lapislazuli-necklace\",\n",
    "    \"Ruby\": \"ruby-necklace\",\n",
    "    \"Smaragd\": \"smaragd-necklace\"  \n",
    "          \n",
    "}\n"
   ],
   "outputs": [],
   "metadata": {}
  },
  {
   "cell_type": "code",
   "execution_count": 67,
   "source": [
    "## Generate Traits\n",
    "\n",
    "TOTAL_IMAGES = 30 # Number of random unique images we want to generate\n",
    "\n",
    "all_images = [] \n",
    "\n",
    "# A recursive function to generate unique image combinations\n",
    "def create_new_image():\n",
    "    \n",
    "    new_image = {} #\n",
    "\n",
    "    # For each trait category, select a random trait based on the weightings \n",
    "    new_image [\"Background-Color\"] = random.choices(background_color, background_color_weights)[0]\n",
    "    new_image [\"LeaderPunk\"] = random.choices(leaderpunk, leaderpunk_weights)[0]\n",
    "    new_image [\"Hat\"] = random.choices(hat, hat_weights)[0]\n",
    "    new_image [\"Necklace\"] = random.choices(necklace, necklace_weights)[0]\n",
    "    \n",
    "    if new_image in all_images:\n",
    "        return create_new_image()\n",
    "    else:\n",
    "        return new_image\n",
    "    \n",
    "    \n",
    "# Generate the unique combinations based on trait weightings\n",
    "for i in range(TOTAL_IMAGES): \n",
    "    \n",
    "    new_trait_image = create_new_image()\n",
    "    \n",
    "    all_images.append(new_trait_image)\n",
    "    \n"
   ],
   "outputs": [],
   "metadata": {}
  },
  {
   "cell_type": "code",
   "execution_count": 68,
   "source": [
    "# Returns true if all images are unique\n",
    "def all_images_unique(all_images):\n",
    "    seen = list()\n",
    "    return not any(i in seen or seen.append(i) for i in all_images)\n",
    "\n",
    "print(\"Are all images unique?\", all_images_unique(all_images))"
   ],
   "outputs": [
    {
     "output_type": "stream",
     "name": "stdout",
     "text": [
      "Are all images unique? True\n"
     ]
    }
   ],
   "metadata": {}
  },
  {
   "cell_type": "code",
   "execution_count": 69,
   "source": [
    "# Add token Id to each image\n",
    "i = 0\n",
    "for item in all_images:\n",
    "    item[\"tokenId\"] = i\n",
    "    i = i + 1"
   ],
   "outputs": [],
   "metadata": {}
  },
  {
   "cell_type": "code",
   "execution_count": 70,
   "source": [
    "print(all_images)"
   ],
   "outputs": [
    {
     "output_type": "stream",
     "name": "stdout",
     "text": [
      "[{'Background-Color': 'Lime-Green', 'LeaderPunk': 'LeaderPunk', 'Hat': 'Green', 'Necklace': 'Amethyst', 'tokenId': 0}, {'Background-Color': 'Dark-Green', 'LeaderPunk': 'LeaderPunk', 'Hat': 'Green', 'Necklace': 'Amethyst', 'tokenId': 1}, {'Background-Color': 'Bright-Pink', 'LeaderPunk': 'LeaderPunk', 'Hat': 'Green', 'Necklace': 'Amethyst', 'tokenId': 2}, {'Background-Color': 'Blue', 'LeaderPunk': 'LeaderPunk', 'Hat': 'Green', 'Necklace': 'Amethyst', 'tokenId': 3}, {'Background-Color': 'Sunshine-Yellow', 'LeaderPunk': 'LeaderPunk', 'Hat': 'Yellow', 'Necklace': 'Amethyst', 'tokenId': 4}, {'Background-Color': 'Lime-Green', 'LeaderPunk': 'LeaderPunk', 'Hat': 'Green', 'Necklace': 'Amber', 'tokenId': 5}, {'Background-Color': 'Dirt', 'LeaderPunk': 'LeaderPunk', 'Hat': 'Yellow', 'Necklace': 'Amethyst', 'tokenId': 6}, {'Background-Color': 'Ochre', 'LeaderPunk': 'LeaderPunk', 'Hat': 'Yellow', 'Necklace': 'Ruby', 'tokenId': 7}, {'Background-Color': 'Lime-Green', 'LeaderPunk': 'LeaderPunk', 'Hat': 'Purple', 'Necklace': 'Amethyst', 'tokenId': 8}, {'Background-Color': 'Light-Dirt', 'LeaderPunk': 'LeaderPunk', 'Hat': 'Green', 'Necklace': 'Amethyst', 'tokenId': 9}, {'Background-Color': 'Dark-Lilac', 'LeaderPunk': 'LeaderPunk', 'Hat': 'Purple', 'Necklace': 'Amethyst', 'tokenId': 10}, {'Background-Color': 'Pastel-Blue', 'LeaderPunk': 'LeaderPunk', 'Hat': 'Red', 'Necklace': 'Amethyst', 'tokenId': 11}, {'Background-Color': 'Pink', 'LeaderPunk': 'LeaderPunk', 'Hat': 'Green', 'Necklace': 'Amber', 'tokenId': 12}, {'Background-Color': 'Dark-Lilac', 'LeaderPunk': 'LeaderPunk', 'Hat': 'Green', 'Necklace': 'Amber', 'tokenId': 13}, {'Background-Color': 'Ochre', 'LeaderPunk': 'LeaderPunk', 'Hat': 'Green', 'Necklace': 'Amber', 'tokenId': 14}, {'Background-Color': 'Dirt', 'LeaderPunk': 'LeaderPunk', 'Hat': 'Green', 'Necklace': 'Amethyst', 'tokenId': 15}, {'Background-Color': 'Orange', 'LeaderPunk': 'LeaderPunk', 'Hat': 'Purple', 'Necklace': 'Amethyst', 'tokenId': 16}, {'Background-Color': 'Blue', 'LeaderPunk': 'LeaderPunk', 'Hat': 'Yellow', 'Necklace': 'Smaragd', 'tokenId': 17}, {'Background-Color': 'Orange', 'LeaderPunk': 'LeaderPunk', 'Hat': 'Green', 'Necklace': 'Amber', 'tokenId': 18}, {'Background-Color': 'Pastel-Purple', 'LeaderPunk': 'LeaderPunk', 'Hat': 'Green', 'Necklace': 'Amber', 'tokenId': 19}, {'Background-Color': 'Ochre', 'LeaderPunk': 'LeaderPunk', 'Hat': 'Green', 'Necklace': 'Lapislazuli', 'tokenId': 20}, {'Background-Color': 'Orange', 'LeaderPunk': 'LeaderPunk', 'Hat': 'Yellow', 'Necklace': 'Amber', 'tokenId': 21}, {'Background-Color': 'Dark-Pink', 'LeaderPunk': 'LeaderPunk', 'Hat': 'Yellow', 'Necklace': 'Smaragd', 'tokenId': 22}, {'Background-Color': 'Dark-Lilac', 'LeaderPunk': 'LeaderPunk', 'Hat': 'Yellow', 'Necklace': 'Ruby', 'tokenId': 23}, {'Background-Color': 'Blue', 'LeaderPunk': 'LeaderPunk', 'Hat': 'Red', 'Necklace': 'Amethyst', 'tokenId': 24}, {'Background-Color': 'Dark-Pink', 'LeaderPunk': 'LeaderPunk', 'Hat': 'Purple', 'Necklace': 'Smaragd', 'tokenId': 25}, {'Background-Color': 'Light-Dirt', 'LeaderPunk': 'LeaderPunk', 'Hat': 'Red', 'Necklace': 'Lapislazuli', 'tokenId': 26}, {'Background-Color': 'Bright-Violet', 'LeaderPunk': 'LeaderPunk', 'Hat': 'Yellow', 'Necklace': 'Smaragd', 'tokenId': 27}, {'Background-Color': 'Light-Blue', 'LeaderPunk': 'LeaderPunk', 'Hat': 'Green', 'Necklace': 'Amethyst', 'tokenId': 28}, {'Background-Color': 'Blue', 'LeaderPunk': 'LeaderPunk', 'Hat': 'Yellow', 'Necklace': 'Amber', 'tokenId': 29}]\n"
     ]
    }
   ],
   "metadata": {
    "tags": []
   }
  },
  {
   "cell_type": "code",
   "execution_count": 71,
   "source": [
    "# Get Trait Counts\n",
    "\n",
    "background_color_count = {}\n",
    "for item in background_color:\n",
    "    background_color_count[item] = 0\n",
    "    \n",
    "leaderpunk_count = {}\n",
    "for item in leaderpunk:\n",
    "    leaderpunk_count[item] = 0\n",
    "\n",
    "hat_count = {}\n",
    "for item in hat:\n",
    "    hat_count[item] = 0\n",
    "\n",
    "necklace_count = {}\n",
    "for item in necklace:\n",
    "    necklace_count[item] = 0\n",
    "\n",
    "for image in all_images:\n",
    "    background_color_count[image[\"Background-Color\"]] += 1\n",
    "    leaderpunk_count[image[\"LeaderPunk\"]] += 1\n",
    "    hat_count[image[\"Hat\"]] += 1\n",
    "    necklace_count[image[\"Necklace\"]] += 1\n",
    "    \n",
    "print(background_color_count)\n",
    "print(leaderpunk_count)\n",
    "print(hat_count)\n",
    "print(necklace_count)\n"
   ],
   "outputs": [
    {
     "output_type": "stream",
     "name": "stdout",
     "text": [
      "{'Blue': 4, 'Baby-Blue': 0, 'Bright-Pink': 1, 'Bright-Purple': 0, 'Bright-Red': 0, 'Bright-Violet': 1, 'Dark-Green': 1, 'Dark-Lilac': 3, 'Dark-Pink': 2, 'Dirt': 2, 'Gray': 0, 'Green': 0, 'Light-Blue': 1, 'Light-Dirt': 2, 'Lilac': 0, 'Lime-Green': 3, 'Mint': 0, 'Ochre': 3, 'Orange': 3, 'Pastel-Blue': 1, 'Pastel-Lilac': 0, 'Pastel-Orange': 0, 'Pastel-Purple': 1, 'Pastel-Violet': 0, 'Pink': 1, 'Purple': 0, 'Red': 0, 'Sunshine-Yellow': 1, 'Toxic-Green': 0, 'White': 0, 'Wine-Red': 0, 'Yellow': 0}\n",
      "{'LeaderPunk': 30}\n",
      "{'Green': 14, 'Purple': 4, 'Red': 3, 'Yellow': 9}\n",
      "{'Amber': 8, 'Amethyst': 14, 'Lapislazuli': 2, 'Ruby': 2, 'Smaragd': 4}\n"
     ]
    }
   ],
   "metadata": {}
  },
  {
   "cell_type": "code",
   "execution_count": 72,
   "source": [
    "#### Generate Metadata for all Traits \n",
    "METADATA_FILE_NAME = './metadata/all-traits.json'; \n",
    "with open(METADATA_FILE_NAME, 'w') as outfile:\n",
    "    json.dump(all_images, outfile, indent=4)"
   ],
   "outputs": [],
   "metadata": {}
  },
  {
   "cell_type": "code",
   "execution_count": 73,
   "source": [
    "  \n",
    "    \n",
    "#### Generate Images    \n",
    "for item in all_images:\n",
    "\n",
    "    im1 = Image.open(f'./trait-layers/backgrounds/{background_color_files[item[\"Background-Color\"]]}.png').convert('RGBA')\n",
    "    im2 = Image.open(f'./trait-layers/leaderpunk/{leaderpunk_files[item[\"LeaderPunk\"]]}.png').convert('RGBA')\n",
    "    im3 = Image.open(f'./trait-layers/hats/{hat_files[item[\"Hat\"]]}.png').convert('RGBA')\n",
    "    im4 = Image.open(f'./trait-layers/necklaces/{necklace_files[item[\"Necklace\"]]}.png').convert('RGBA')\n",
    "\n",
    "    #Create each composite\n",
    "    com1 = Image.alpha_composite(im1, im2)\n",
    "    com2 = Image.alpha_composite(im3, im4)\n",
    "    com3 = Image.alpha_composite(com1, com2)\n",
    "\n",
    "\n",
    "    #Convert to RGB\n",
    "    rgb_im = com3.convert('RGBA')\n",
    "    file_name = str(item[\"tokenId\"]) + \".png\"\n",
    "    rgb_im.save(\"./images/\" + file_name)\n",
    "    \n",
    "    \n",
    "    \n"
   ],
   "outputs": [],
   "metadata": {}
  },
  {
   "cell_type": "code",
   "execution_count": null,
   "source": [
    "#### Generate Metadata for each Image    \n",
    "\n",
    "f = open('./metadata/all-traits.json',) \n",
    "data = json.load(f)\n",
    "\n",
    "\n",
    "IMAGES_BASE_URI = \"ADD_IMAGES_BASE_URI_HERE\"\n",
    "PROJECT_NAME = \"ADD_PROJECT_NAME_HERE\"\n",
    "\n",
    "def getAttribute(key, value):\n",
    "    return {\n",
    "        \"trait_type\": key,\n",
    "        \"value\": value\n",
    "    }\n",
    "for i in data:\n",
    "    token_id = i['tokenId']\n",
    "    token = {\n",
    "        \"image\": IMAGES_BASE_URI + str(token_id) + '.png',\n",
    "        \"tokenId\": token_id,\n",
    "        \"name\": PROJECT_NAME + ' ' + str(token_id),\n",
    "        \"attributes\": []\n",
    "    }\n",
    "    token[\"attributes\"].append(getAttribute(\"Background-Color\", i[\"Background-Color\"]))\n",
    "    token[\"attributes\"].append(getAttribute(\"LeaderPunk\", i[\"LeaderPunk\"]))\n",
    "    token[\"attributes\"].append(getAttribute(\"Hat\", i[\"Hat\"]))\n",
    "    token[\"attributes\"].append(getAttribute(\"Necklace\", i[\"Necklace\"]))\n",
    "\n",
    "    with open('./metadata/' + str(token_id), 'w') as outfile:\n",
    "        json.dump(token, outfile, indent=4)\n",
    "f.close()\n"
   ],
   "outputs": [],
   "metadata": {}
  },
  {
   "cell_type": "code",
   "execution_count": null,
   "source": [],
   "outputs": [],
   "metadata": {}
  }
 ],
 "metadata": {
  "kernelspec": {
   "name": "python3",
   "display_name": "Python 3.9.7 64-bit"
  },
  "language_info": {
   "codemirror_mode": {
    "name": "ipython",
    "version": 3
   },
   "file_extension": ".py",
   "mimetype": "text/x-python",
   "name": "python",
   "nbconvert_exporter": "python",
   "pygments_lexer": "ipython3",
   "version": "3.9.7"
  },
  "interpreter": {
   "hash": "36cf16204b8548560b1c020c4e8fb5b57f0e4c58016f52f2d4be01e192833930"
  }
 },
 "nbformat": 4,
 "nbformat_minor": 4
}