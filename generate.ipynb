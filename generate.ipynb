{
 "cells": [
  {
   "cell_type": "code",
   "execution_count": 119,
   "source": [
    "from PIL import Image \n",
    "from IPython.display import display \n",
    "import random\n",
    "import json"
   ],
   "outputs": [],
   "metadata": {}
  },
  {
   "cell_type": "code",
   "execution_count": 120,
   "source": [
    "# Each image is made up a series of traits\n",
    "# The weightings for each trait drive the rarity and add up to 100%\n",
    "leaderpunk = [\"LeaderPunk\"]\n",
    "leaderpunk_weights = [100]\n",
    "\n",
    "background = [\"Blue\", \"Orange\", \"Purple\", \"Red\", \"Yellow\"] \n",
    "background_weights = [30, 40, 15, 5, 10]\n",
    "\n",
    "circle = [\"Blue\", \"Green\", \"Orange\", \"Red\", \"Yellow\"] \n",
    "circle_weights = [30, 40, 15, 5, 10]\n",
    "\n",
    "square = [\"Blue\", \"Green\", \"Orange\", \"Red\", \"Yellow\"] \n",
    "square_weights = [30, 40, 15, 5, 10]\n",
    "\n",
    "# Dictionary variable for each trait. \n",
    "# Eech trait corresponds to its file name\n",
    "\n",
    "background_files = {\n",
    "    \"Blue\": \"blue\",\n",
    "    \"Orange\": \"orange\",\n",
    "    \"Purple\": \"purple\",\n",
    "    \"Red\": \"red\",\n",
    "    \"Yellow\": \"yellow\",\n",
    "}\n",
    "\n",
    "leaderpunk_files = {\n",
    "    \"LeaderPunk\": \"leaderpunk\"\n",
    "}\n",
    "\n",
    "circle_files = {\n",
    "    \"Blue\": \"blue-circle\",\n",
    "    \"Green\": \"green-circle\",\n",
    "    \"Orange\": \"orange-circle\",\n",
    "    \"Red\": \"red-circle\",\n",
    "    \"Yellow\": \"yellow-circle\"   \n",
    "}\n",
    "\n",
    "square_files = {\n",
    "    \"Blue\": \"blue-square\",\n",
    "    \"Green\": \"green-square\",\n",
    "    \"Orange\": \"orange-square\",\n",
    "    \"Red\": \"red-square\",\n",
    "    \"Yellow\": \"yellow-square\"  \n",
    "          \n",
    "}"
   ],
   "outputs": [],
   "metadata": {}
  },
  {
   "cell_type": "code",
   "execution_count": 121,
   "source": [
    "## Generate Traits\n",
    "\n",
    "TOTAL_IMAGES = 30 # Number of random unique images we want to generate\n",
    "\n",
    "all_images = [] \n",
    "\n",
    "# A recursive function to generate unique image combinations\n",
    "def create_new_image():\n",
    "    \n",
    "    new_image = {} #\n",
    "\n",
    "    # For each trait category, select a random trait based on the weightings \n",
    "    new_image [\"Background\"] = random.choices(background, background_weights)[0]\n",
    "    new_image [\"LeaderPunk\"] = random.choices(leaderpunk, leaderpunk_weights)[0]\n",
    "    new_image [\"Circle\"] = random.choices(circle, circle_weights)[0]\n",
    "    new_image [\"Square\"] = random.choices(square, square_weights)[0]\n",
    "    \n",
    "    if new_image in all_images:\n",
    "        return create_new_image()\n",
    "    else:\n",
    "        return new_image\n",
    "    \n",
    "    \n",
    "# Generate the unique combinations based on trait weightings\n",
    "for i in range(TOTAL_IMAGES): \n",
    "    \n",
    "    new_trait_image = create_new_image()\n",
    "    \n",
    "    all_images.append(new_trait_image)\n",
    "    \n"
   ],
   "outputs": [],
   "metadata": {}
  },
  {
   "cell_type": "code",
   "execution_count": 122,
   "source": [
    "# Returns true if all images are unique\n",
    "def all_images_unique(all_images):\n",
    "    seen = list()\n",
    "    return not any(i in seen or seen.append(i) for i in all_images)\n",
    "\n",
    "print(\"Are all images unique?\", all_images_unique(all_images))"
   ],
   "outputs": [
    {
     "output_type": "stream",
     "name": "stdout",
     "text": [
      "Are all images unique? True\n"
     ]
    }
   ],
   "metadata": {}
  },
  {
   "cell_type": "code",
   "execution_count": 123,
   "source": [
    "# Add token Id to each image\n",
    "i = 0\n",
    "for item in all_images:\n",
    "    item[\"tokenId\"] = i\n",
    "    i = i + 1"
   ],
   "outputs": [],
   "metadata": {}
  },
  {
   "cell_type": "code",
   "execution_count": 124,
   "source": [
    "print(all_images)"
   ],
   "outputs": [
    {
     "output_type": "stream",
     "name": "stdout",
     "text": [
      "[{'Background': 'Red', 'LeaderPunk': 'LeaderPunk', 'Circle': 'Blue', 'Square': 'Green', 'tokenId': 0}, {'Background': 'Blue', 'LeaderPunk': 'LeaderPunk', 'Circle': 'Green', 'Square': 'Green', 'tokenId': 1}, {'Background': 'Red', 'LeaderPunk': 'LeaderPunk', 'Circle': 'Green', 'Square': 'Blue', 'tokenId': 2}, {'Background': 'Blue', 'LeaderPunk': 'LeaderPunk', 'Circle': 'Green', 'Square': 'Yellow', 'tokenId': 3}, {'Background': 'Orange', 'LeaderPunk': 'LeaderPunk', 'Circle': 'Green', 'Square': 'Blue', 'tokenId': 4}, {'Background': 'Purple', 'LeaderPunk': 'LeaderPunk', 'Circle': 'Blue', 'Square': 'Orange', 'tokenId': 5}, {'Background': 'Orange', 'LeaderPunk': 'LeaderPunk', 'Circle': 'Orange', 'Square': 'Green', 'tokenId': 6}, {'Background': 'Purple', 'LeaderPunk': 'LeaderPunk', 'Circle': 'Blue', 'Square': 'Green', 'tokenId': 7}, {'Background': 'Blue', 'LeaderPunk': 'LeaderPunk', 'Circle': 'Blue', 'Square': 'Yellow', 'tokenId': 8}, {'Background': 'Blue', 'LeaderPunk': 'LeaderPunk', 'Circle': 'Blue', 'Square': 'Blue', 'tokenId': 9}, {'Background': 'Purple', 'LeaderPunk': 'LeaderPunk', 'Circle': 'Green', 'Square': 'Green', 'tokenId': 10}, {'Background': 'Purple', 'LeaderPunk': 'LeaderPunk', 'Circle': 'Orange', 'Square': 'Blue', 'tokenId': 11}, {'Background': 'Red', 'LeaderPunk': 'LeaderPunk', 'Circle': 'Yellow', 'Square': 'Green', 'tokenId': 12}, {'Background': 'Blue', 'LeaderPunk': 'LeaderPunk', 'Circle': 'Blue', 'Square': 'Orange', 'tokenId': 13}, {'Background': 'Orange', 'LeaderPunk': 'LeaderPunk', 'Circle': 'Orange', 'Square': 'Blue', 'tokenId': 14}, {'Background': 'Orange', 'LeaderPunk': 'LeaderPunk', 'Circle': 'Blue', 'Square': 'Green', 'tokenId': 15}, {'Background': 'Blue', 'LeaderPunk': 'LeaderPunk', 'Circle': 'Blue', 'Square': 'Green', 'tokenId': 16}, {'Background': 'Orange', 'LeaderPunk': 'LeaderPunk', 'Circle': 'Blue', 'Square': 'Orange', 'tokenId': 17}, {'Background': 'Orange', 'LeaderPunk': 'LeaderPunk', 'Circle': 'Yellow', 'Square': 'Orange', 'tokenId': 18}, {'Background': 'Blue', 'LeaderPunk': 'LeaderPunk', 'Circle': 'Orange', 'Square': 'Orange', 'tokenId': 19}, {'Background': 'Yellow', 'LeaderPunk': 'LeaderPunk', 'Circle': 'Green', 'Square': 'Green', 'tokenId': 20}, {'Background': 'Blue', 'LeaderPunk': 'LeaderPunk', 'Circle': 'Orange', 'Square': 'Green', 'tokenId': 21}, {'Background': 'Orange', 'LeaderPunk': 'LeaderPunk', 'Circle': 'Orange', 'Square': 'Orange', 'tokenId': 22}, {'Background': 'Purple', 'LeaderPunk': 'LeaderPunk', 'Circle': 'Yellow', 'Square': 'Yellow', 'tokenId': 23}, {'Background': 'Orange', 'LeaderPunk': 'LeaderPunk', 'Circle': 'Yellow', 'Square': 'Green', 'tokenId': 24}, {'Background': 'Purple', 'LeaderPunk': 'LeaderPunk', 'Circle': 'Green', 'Square': 'Blue', 'tokenId': 25}, {'Background': 'Orange', 'LeaderPunk': 'LeaderPunk', 'Circle': 'Blue', 'Square': 'Yellow', 'tokenId': 26}, {'Background': 'Yellow', 'LeaderPunk': 'LeaderPunk', 'Circle': 'Blue', 'Square': 'Green', 'tokenId': 27}, {'Background': 'Orange', 'LeaderPunk': 'LeaderPunk', 'Circle': 'Green', 'Square': 'Green', 'tokenId': 28}, {'Background': 'Orange', 'LeaderPunk': 'LeaderPunk', 'Circle': 'Green', 'Square': 'Yellow', 'tokenId': 29}, {'Background': 'Orange', 'LeaderPunk': 'LeaderPunk', 'Circle': 'Green', 'Square': 'Red', 'tokenId': 30}, {'Background': 'Blue', 'LeaderPunk': 'LeaderPunk', 'Circle': 'Green', 'Square': 'Red', 'tokenId': 31}, {'Background': 'Red', 'LeaderPunk': 'LeaderPunk', 'Circle': 'Green', 'Square': 'Green', 'tokenId': 32}, {'Background': 'Yellow', 'LeaderPunk': 'LeaderPunk', 'Circle': 'Green', 'Square': 'Blue', 'tokenId': 33}, {'Background': 'Blue', 'LeaderPunk': 'LeaderPunk', 'Circle': 'Yellow', 'Square': 'Blue', 'tokenId': 34}, {'Background': 'Yellow', 'LeaderPunk': 'LeaderPunk', 'Circle': 'Yellow', 'Square': 'Blue', 'tokenId': 35}, {'Background': 'Blue', 'LeaderPunk': 'LeaderPunk', 'Circle': 'Green', 'Square': 'Orange', 'tokenId': 36}, {'Background': 'Blue', 'LeaderPunk': 'LeaderPunk', 'Circle': 'Green', 'Square': 'Blue', 'tokenId': 37}, {'Background': 'Yellow', 'LeaderPunk': 'LeaderPunk', 'Circle': 'Red', 'Square': 'Yellow', 'tokenId': 38}, {'Background': 'Orange', 'LeaderPunk': 'LeaderPunk', 'Circle': 'Blue', 'Square': 'Blue', 'tokenId': 39}, {'Background': 'Purple', 'LeaderPunk': 'LeaderPunk', 'Circle': 'Orange', 'Square': 'Green', 'tokenId': 40}, {'Background': 'Purple', 'LeaderPunk': 'LeaderPunk', 'Circle': 'Blue', 'Square': 'Blue', 'tokenId': 41}, {'Background': 'Orange', 'LeaderPunk': 'LeaderPunk', 'Circle': 'Green', 'Square': 'Orange', 'tokenId': 42}, {'Background': 'Orange', 'LeaderPunk': 'LeaderPunk', 'Circle': 'Blue', 'Square': 'Red', 'tokenId': 43}, {'Background': 'Blue', 'LeaderPunk': 'LeaderPunk', 'Circle': 'Yellow', 'Square': 'Orange', 'tokenId': 44}, {'Background': 'Red', 'LeaderPunk': 'LeaderPunk', 'Circle': 'Blue', 'Square': 'Orange', 'tokenId': 45}, {'Background': 'Blue', 'LeaderPunk': 'LeaderPunk', 'Circle': 'Blue', 'Square': 'Red', 'tokenId': 46}, {'Background': 'Purple', 'LeaderPunk': 'LeaderPunk', 'Circle': 'Green', 'Square': 'Orange', 'tokenId': 47}, {'Background': 'Blue', 'LeaderPunk': 'LeaderPunk', 'Circle': 'Orange', 'Square': 'Blue', 'tokenId': 48}, {'Background': 'Yellow', 'LeaderPunk': 'LeaderPunk', 'Circle': 'Green', 'Square': 'Orange', 'tokenId': 49}, {'Background': 'Red', 'LeaderPunk': 'LeaderPunk', 'Circle': 'Blue', 'Square': 'Yellow', 'tokenId': 50}, {'Background': 'Blue', 'LeaderPunk': 'LeaderPunk', 'Circle': 'Yellow', 'Square': 'Yellow', 'tokenId': 51}, {'Background': 'Blue', 'LeaderPunk': 'LeaderPunk', 'Circle': 'Orange', 'Square': 'Yellow', 'tokenId': 52}, {'Background': 'Yellow', 'LeaderPunk': 'LeaderPunk', 'Circle': 'Green', 'Square': 'Yellow', 'tokenId': 53}, {'Background': 'Yellow', 'LeaderPunk': 'LeaderPunk', 'Circle': 'Red', 'Square': 'Blue', 'tokenId': 54}, {'Background': 'Purple', 'LeaderPunk': 'LeaderPunk', 'Circle': 'Blue', 'Square': 'Red', 'tokenId': 55}, {'Background': 'Blue', 'LeaderPunk': 'LeaderPunk', 'Circle': 'Red', 'Square': 'Green', 'tokenId': 56}, {'Background': 'Orange', 'LeaderPunk': 'LeaderPunk', 'Circle': 'Orange', 'Square': 'Yellow', 'tokenId': 57}, {'Background': 'Red', 'LeaderPunk': 'LeaderPunk', 'Circle': 'Orange', 'Square': 'Blue', 'tokenId': 58}, {'Background': 'Blue', 'LeaderPunk': 'LeaderPunk', 'Circle': 'Yellow', 'Square': 'Green', 'tokenId': 59}, {'Background': 'Purple', 'LeaderPunk': 'LeaderPunk', 'Circle': 'Green', 'Square': 'Yellow', 'tokenId': 60}, {'Background': 'Red', 'LeaderPunk': 'LeaderPunk', 'Circle': 'Green', 'Square': 'Orange', 'tokenId': 61}, {'Background': 'Blue', 'LeaderPunk': 'LeaderPunk', 'Circle': 'Red', 'Square': 'Red', 'tokenId': 62}, {'Background': 'Orange', 'LeaderPunk': 'LeaderPunk', 'Circle': 'Orange', 'Square': 'Red', 'tokenId': 63}, {'Background': 'Purple', 'LeaderPunk': 'LeaderPunk', 'Circle': 'Yellow', 'Square': 'Green', 'tokenId': 64}, {'Background': 'Yellow', 'LeaderPunk': 'LeaderPunk', 'Circle': 'Orange', 'Square': 'Red', 'tokenId': 65}, {'Background': 'Purple', 'LeaderPunk': 'LeaderPunk', 'Circle': 'Blue', 'Square': 'Yellow', 'tokenId': 66}, {'Background': 'Red', 'LeaderPunk': 'LeaderPunk', 'Circle': 'Blue', 'Square': 'Blue', 'tokenId': 67}, {'Background': 'Purple', 'LeaderPunk': 'LeaderPunk', 'Circle': 'Orange', 'Square': 'Orange', 'tokenId': 68}]\n"
     ]
    }
   ],
   "metadata": {
    "tags": []
   }
  },
  {
   "cell_type": "code",
   "execution_count": 125,
   "source": [
    "# Get Trait Counts\n",
    "\n",
    "background_count = {}\n",
    "for item in background:\n",
    "    background_count[item] = 0\n",
    "    \n",
    "leaderpunk_count = {}\n",
    "for item in leaderpunk:\n",
    "    leaderpunk_count[item] = 0\n",
    "\n",
    "circle_count = {}\n",
    "for item in circle:\n",
    "    circle_count[item] = 0\n",
    "\n",
    "square_count = {}\n",
    "for item in square:\n",
    "    square_count[item] = 0\n",
    "\n",
    "for image in all_images:\n",
    "    background_count[image[\"Background\"]] += 1\n",
    "    leaderpunk_count[image[\"LeaderPunk\"]] += 1\n",
    "    circle_count[image[\"Circle\"]] += 1\n",
    "    square_count[image[\"Square\"]] += 1\n",
    "    \n",
    "print(background_count)\n",
    "print(leaderpunk_count)\n",
    "print(circle_count)\n",
    "print(square_count)\n"
   ],
   "outputs": [
    {
     "output_type": "stream",
     "name": "stdout",
     "text": [
      "{'Blue': 20, 'Orange': 17, 'Purple': 14, 'Red': 9, 'Yellow': 9}\n",
      "{'LeaderPunk': 69}\n",
      "{'Blue': 20, 'Green': 21, 'Orange': 14, 'Red': 4, 'Yellow': 10}\n",
      "{'Blue': 16, 'Green': 18, 'Orange': 14, 'Red': 8, 'Yellow': 13}\n"
     ]
    }
   ],
   "metadata": {}
  },
  {
   "cell_type": "code",
   "execution_count": 126,
   "source": [
    "#### Generate Metadata for all Traits \n",
    "METADATA_FILE_NAME = './metadata/all-traits.json'; \n",
    "with open(METADATA_FILE_NAME, 'w') as outfile:\n",
    "    json.dump(all_images, outfile, indent=4)"
   ],
   "outputs": [],
   "metadata": {}
  },
  {
   "cell_type": "code",
   "execution_count": 127,
   "source": [
    "  \n",
    "    \n",
    "#### Generate Images    \n",
    "for item in all_images:\n",
    "\n",
    "    im1 = Image.open(f'./trait-layers/backgrounds/{background_files[item[\"Background\"]]}.jpg').convert('RGBA')\n",
    "    im2 = Image.open(f'./trait-layers/leaderpunk/{leaderpunk_files[item[\"LeaderPunk\"]]}.png').convert('RGBA')\n",
    "    im3 = Image.open(f'./trait-layers/circles/{circle_files[item[\"Circle\"]]}.png').convert('RGBA')\n",
    "    im4 = Image.open(f'./trait-layers/squares/{square_files[item[\"Square\"]]}.png').convert('RGBA')\n",
    "\n",
    "    #Create each composite\n",
    "    com1 = Image.alpha_composite(im1, im2)\n",
    "    com2 = Image.alpha_composite(im3, im4)\n",
    "    com3 = Image.alpha_composite(com1, com2)\n",
    "\n",
    "\n",
    "    #Convert to RGB\n",
    "    rgb_im = com3.convert('RGBA')\n",
    "    file_name = str(item[\"tokenId\"]) + \".png\"\n",
    "    rgb_im.save(\"./images/\" + file_name)\n",
    "    \n",
    "    \n",
    "    \n"
   ],
   "outputs": [],
   "metadata": {}
  },
  {
   "cell_type": "code",
   "execution_count": 128,
   "source": [
    "#### Generate Metadata for each Image    \n",
    "\n",
    "f = open('./metadata/all-traits.json',) \n",
    "data = json.load(f)\n",
    "\n",
    "\n",
    "IMAGES_BASE_URI = \"ADD_IMAGES_BASE_URI_HERE\"\n",
    "PROJECT_NAME = \"ADD_PROJECT_NAME_HERE\"\n",
    "\n",
    "def getAttribute(key, value):\n",
    "    return {\n",
    "        \"trait_type\": key,\n",
    "        \"value\": value\n",
    "    }\n",
    "for i in data:\n",
    "    token_id = i['tokenId']\n",
    "    token = {\n",
    "        \"image\": IMAGES_BASE_URI + str(token_id) + '.png',\n",
    "        \"tokenId\": token_id,\n",
    "        \"name\": PROJECT_NAME + ' ' + str(token_id),\n",
    "        \"attributes\": []\n",
    "    }\n",
    "    token[\"attributes\"].append(getAttribute(\"Background\", i[\"Background\"]))\n",
    "    token[\"attributes\"].append(getAttribute(\"LeaderPunk\", i[\"LeaderPunk\"]))\n",
    "    token[\"attributes\"].append(getAttribute(\"Circle\", i[\"Circle\"]))\n",
    "    token[\"attributes\"].append(getAttribute(\"Square\", i[\"Square\"]))\n",
    "\n",
    "    with open('./metadata/' + str(token_id), 'w') as outfile:\n",
    "        json.dump(token, outfile, indent=4)\n",
    "f.close()\n"
   ],
   "outputs": [],
   "metadata": {}
  },
  {
   "cell_type": "code",
   "execution_count": null,
   "source": [],
   "outputs": [],
   "metadata": {}
  }
 ],
 "metadata": {
  "kernelspec": {
   "name": "python3",
   "display_name": "Python 3.9.6 64-bit"
  },
  "language_info": {
   "codemirror_mode": {
    "name": "ipython",
    "version": 3
   },
   "file_extension": ".py",
   "mimetype": "text/x-python",
   "name": "python",
   "nbconvert_exporter": "python",
   "pygments_lexer": "ipython3",
   "version": "3.9.6"
  },
  "interpreter": {
   "hash": "4cd7ab41f5fca4b9b44701077e38c5ffd31fe66a6cab21e0214b68d958d0e462"
  }
 },
 "nbformat": 4,
 "nbformat_minor": 4
}