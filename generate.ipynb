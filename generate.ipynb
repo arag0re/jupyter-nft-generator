{
 "cells": [
  {
   "cell_type": "code",
   "execution_count": 56,
   "source": [
    "from PIL import Image \n",
    "from IPython.display import display \n",
    "import random\n",
    "import json"
   ],
   "outputs": [],
   "metadata": {}
  },
  {
   "cell_type": "code",
   "execution_count": 57,
   "source": [
    "# Each image is made up a series of traits\n",
    "# The weightings for each trait drive the rarity and add up to 100%\n",
    "leaderpunk = [\"LeaderPunk\"]\n",
    "leaderpunk_weights = [100]\n",
    "\n",
    "background = [\"Blue\", \"Baby-Blue\", \"Bright-Pink\", \"Bright-Purple\", \"Bright-Red\", \"Bright-Violet\", \"Dark-Green\", \"Dark-Lilac\", \"Dark-Pink\", \"Dirt\", \"Gray\", \"Green\", \"Light-Blue\", \"Light-Dirt\", \"Light-Yellow\", \"Lilac\", \"Lime-Green\", \"Mint\", \"Ochre\", \"Orange\", \"Pastel-Blue\", \"Pastel-Lilac\", \"Pastel-Orange\", \"Pastel-Purple\", \"Pastel-Violet\", \"Pink\", \"Purple\", \"Red\", \"Sunshine-Yellow\", \"Toxic-Green\", \"White\", \"Wine-Red\", \"Yellow\"] \n",
    "background_weights = [5, 1, 3, 1, 2, 4, 3, 3, 8, 10, 2, 3, 5, 5, 5, 2, 2, 2 ,4 , 6, 2, 1, 1, 2, 5, 2, 1, 1, 1, 1, 2, 1, 4 ]\n",
    "\n",
    "circle = [\"Blue\", \"Green\", \"Orange\", \"Red\", \"Yellow\"] \n",
    "circle_weights = [30, 40, 15, 5, 10]\n",
    "\n",
    "square = [\"Blue\", \"Green\", \"Orange\", \"Red\", \"Yellow\"] \n",
    "square_weights = [30, 40, 15, 5, 10]\n",
    "\n",
    "# Dictionary variable for each trait. \n",
    "# Eech trait corresponds to its file name\n",
    "\n",
    "background_files = {\n",
    "    \"Blue\": \"blue\",\n",
    "    \"Baby-Blue\": \"baby-blue\",\n",
    "    \"Bright-Pink\": \"bright-pink\",\n",
    "    \"Bright-Purple\": \"bright-purple\",\n",
    "    \"Bright-Red\": \"bright-red\",\n",
    "    \"Bright-Violet\": \"bright-violet\",\n",
    "    \"Dark-Green\": \"dark-green\",\n",
    "    \"Dark-Lilac\": \"dark-lilac\",\n",
    "    \"Dark-Pink\": \"dark-pink\",\n",
    "    \"Dirt\": \"dirt\", \n",
    "    \"Gray\": \"gray\",\n",
    "    \"Green\": \"green\",\n",
    "    \"Light-Blue\": \"light-blue\",\n",
    "    \"Light-Dirt\": \"light-dirt\",\n",
    "    \"Light-Yellow\": \"light-yellow\",\n",
    "    \"Lilac\": \"lilac\",\n",
    "    \"Lime-Green\": \"lime-green\",\n",
    "    \"Mint\": \"mint\",\n",
    "    \"Ochre\": \"ochre\",\n",
    "    \"Orange\": \"orange\",\n",
    "    \"Pastel-Blue\": \"pastel-blue\",\n",
    "    \"Pastel-Lilac\": \"pastel-lilac\",\n",
    "    \"Pastel-Orange\": \"pastel-orange\",\n",
    "    \"Pastel-Purple\": \"pastel-purple\",\n",
    "    \"Pastel-Violet\": \"pastel-violet\",\n",
    "    \"Pink\": \"pink\",\n",
    "    \"Purple\": \"purple\",\n",
    "    \"Red\": \"red\",\n",
    "    \"Sunshine-Yellow\": \"sunshine-yellow\",\n",
    "    \"Toxic-Green\": \"toxic-green\",\n",
    "    \"White\": \"white\",\n",
    "    \"Wine-Red\": \"wine-red\",\n",
    "    \"Yellow\": \"yellow\",\n",
    "}\n",
    "\n",
    "leaderpunk_files = {\n",
    "    \"LeaderPunk\": \"leaderpunk\"\n",
    "}\n",
    "\n",
    "circle_files = {\n",
    "    \"Blue\": \"blue-circle\",\n",
    "    \"Green\": \"green-circle\",\n",
    "    \"Orange\": \"orange-circle\",\n",
    "    \"Red\": \"red-circle\",\n",
    "    \"Yellow\": \"yellow-circle\"   \n",
    "}\n",
    "\n",
    "square_files = {\n",
    "    \"Blue\": \"blue-square\",\n",
    "    \"Green\": \"green-square\",\n",
    "    \"Orange\": \"orange-square\",\n",
    "    \"Red\": \"red-square\",\n",
    "    \"Yellow\": \"yellow-square\"  \n",
    "          \n",
    "}\n"
   ],
   "outputs": [],
   "metadata": {}
  },
  {
   "cell_type": "code",
   "execution_count": 58,
   "source": [
    "## Generate Traits\n",
    "\n",
    "TOTAL_IMAGES = 30 # Number of random unique images we want to generate\n",
    "\n",
    "all_images = [] \n",
    "\n",
    "# A recursive function to generate unique image combinations\n",
    "def create_new_image():\n",
    "    \n",
    "    new_image = {} #\n",
    "\n",
    "    # For each trait category, select a random trait based on the weightings \n",
    "    new_image [\"Background\"] = random.choices(background, background_weights)[0]\n",
    "    new_image [\"LeaderPunk\"] = random.choices(leaderpunk, leaderpunk_weights)[0]\n",
    "    new_image [\"Circle\"] = random.choices(circle, circle_weights)[0]\n",
    "    new_image [\"Square\"] = random.choices(square, square_weights)[0]\n",
    "    \n",
    "    if new_image in all_images:\n",
    "        return create_new_image()\n",
    "    else:\n",
    "        return new_image\n",
    "    \n",
    "    \n",
    "# Generate the unique combinations based on trait weightings\n",
    "for i in range(TOTAL_IMAGES): \n",
    "    \n",
    "    new_trait_image = create_new_image()\n",
    "    \n",
    "    all_images.append(new_trait_image)\n",
    "    \n"
   ],
   "outputs": [],
   "metadata": {}
  },
  {
   "cell_type": "code",
   "execution_count": 59,
   "source": [
    "# Returns true if all images are unique\n",
    "def all_images_unique(all_images):\n",
    "    seen = list()\n",
    "    return not any(i in seen or seen.append(i) for i in all_images)\n",
    "\n",
    "print(\"Are all images unique?\", all_images_unique(all_images))"
   ],
   "outputs": [
    {
     "output_type": "stream",
     "name": "stdout",
     "text": [
      "Are all images unique? True\n"
     ]
    }
   ],
   "metadata": {}
  },
  {
   "cell_type": "code",
   "execution_count": 60,
   "source": [
    "# Add token Id to each image\n",
    "i = 0\n",
    "for item in all_images:\n",
    "    item[\"tokenId\"] = i\n",
    "    i = i + 1"
   ],
   "outputs": [],
   "metadata": {}
  },
  {
   "cell_type": "code",
   "execution_count": 61,
   "source": [
    "print(all_images)"
   ],
   "outputs": [
    {
     "output_type": "stream",
     "name": "stdout",
     "text": [
      "[{'Background': 'Bright-Violet', 'LeaderPunk': 'LeaderPunk', 'Circle': 'Green', 'Square': 'Blue', 'tokenId': 0}, {'Background': 'Pastel-Orange', 'LeaderPunk': 'LeaderPunk', 'Circle': 'Orange', 'Square': 'Blue', 'tokenId': 1}, {'Background': 'Ochre', 'LeaderPunk': 'LeaderPunk', 'Circle': 'Blue', 'Square': 'Green', 'tokenId': 2}, {'Background': 'Dark-Pink', 'LeaderPunk': 'LeaderPunk', 'Circle': 'Blue', 'Square': 'Green', 'tokenId': 3}, {'Background': 'Light-Yellow', 'LeaderPunk': 'LeaderPunk', 'Circle': 'Blue', 'Square': 'Green', 'tokenId': 4}, {'Background': 'Orange', 'LeaderPunk': 'LeaderPunk', 'Circle': 'Green', 'Square': 'Blue', 'tokenId': 5}, {'Background': 'Pastel-Violet', 'LeaderPunk': 'LeaderPunk', 'Circle': 'Green', 'Square': 'Green', 'tokenId': 6}, {'Background': 'Dark-Pink', 'LeaderPunk': 'LeaderPunk', 'Circle': 'Blue', 'Square': 'Blue', 'tokenId': 7}, {'Background': 'Blue', 'LeaderPunk': 'LeaderPunk', 'Circle': 'Green', 'Square': 'Green', 'tokenId': 8}, {'Background': 'Sunshine-Yellow', 'LeaderPunk': 'LeaderPunk', 'Circle': 'Blue', 'Square': 'Orange', 'tokenId': 9}, {'Background': 'Green', 'LeaderPunk': 'LeaderPunk', 'Circle': 'Green', 'Square': 'Green', 'tokenId': 10}, {'Background': 'Dark-Pink', 'LeaderPunk': 'LeaderPunk', 'Circle': 'Green', 'Square': 'Green', 'tokenId': 11}, {'Background': 'Bright-Purple', 'LeaderPunk': 'LeaderPunk', 'Circle': 'Green', 'Square': 'Yellow', 'tokenId': 12}, {'Background': 'Orange', 'LeaderPunk': 'LeaderPunk', 'Circle': 'Blue', 'Square': 'Blue', 'tokenId': 13}, {'Background': 'Pastel-Violet', 'LeaderPunk': 'LeaderPunk', 'Circle': 'Orange', 'Square': 'Green', 'tokenId': 14}, {'Background': 'Dark-Green', 'LeaderPunk': 'LeaderPunk', 'Circle': 'Red', 'Square': 'Yellow', 'tokenId': 15}, {'Background': 'Lime-Green', 'LeaderPunk': 'LeaderPunk', 'Circle': 'Blue', 'Square': 'Orange', 'tokenId': 16}, {'Background': 'Red', 'LeaderPunk': 'LeaderPunk', 'Circle': 'Green', 'Square': 'Green', 'tokenId': 17}, {'Background': 'Dark-Green', 'LeaderPunk': 'LeaderPunk', 'Circle': 'Green', 'Square': 'Yellow', 'tokenId': 18}, {'Background': 'Wine-Red', 'LeaderPunk': 'LeaderPunk', 'Circle': 'Green', 'Square': 'Blue', 'tokenId': 19}, {'Background': 'Orange', 'LeaderPunk': 'LeaderPunk', 'Circle': 'Blue', 'Square': 'Green', 'tokenId': 20}, {'Background': 'Dark-Lilac', 'LeaderPunk': 'LeaderPunk', 'Circle': 'Orange', 'Square': 'Green', 'tokenId': 21}, {'Background': 'Pastel-Purple', 'LeaderPunk': 'LeaderPunk', 'Circle': 'Green', 'Square': 'Orange', 'tokenId': 22}, {'Background': 'Light-Yellow', 'LeaderPunk': 'LeaderPunk', 'Circle': 'Green', 'Square': 'Blue', 'tokenId': 23}, {'Background': 'Light-Blue', 'LeaderPunk': 'LeaderPunk', 'Circle': 'Green', 'Square': 'Blue', 'tokenId': 24}, {'Background': 'Ochre', 'LeaderPunk': 'LeaderPunk', 'Circle': 'Blue', 'Square': 'Blue', 'tokenId': 25}, {'Background': 'Gray', 'LeaderPunk': 'LeaderPunk', 'Circle': 'Green', 'Square': 'Orange', 'tokenId': 26}, {'Background': 'Dark-Lilac', 'LeaderPunk': 'LeaderPunk', 'Circle': 'Yellow', 'Square': 'Blue', 'tokenId': 27}, {'Background': 'Pastel-Violet', 'LeaderPunk': 'LeaderPunk', 'Circle': 'Green', 'Square': 'Blue', 'tokenId': 28}, {'Background': 'Bright-Violet', 'LeaderPunk': 'LeaderPunk', 'Circle': 'Blue', 'Square': 'Blue', 'tokenId': 29}]\n"
     ]
    }
   ],
   "metadata": {
    "tags": []
   }
  },
  {
   "cell_type": "code",
   "execution_count": 62,
   "source": [
    "# Get Trait Counts\n",
    "\n",
    "background_count = {}\n",
    "for item in background:\n",
    "    background_count[item] = 0\n",
    "    \n",
    "leaderpunk_count = {}\n",
    "for item in leaderpunk:\n",
    "    leaderpunk_count[item] = 0\n",
    "\n",
    "circle_count = {}\n",
    "for item in circle:\n",
    "    circle_count[item] = 0\n",
    "\n",
    "square_count = {}\n",
    "for item in square:\n",
    "    square_count[item] = 0\n",
    "\n",
    "for image in all_images:\n",
    "    background_count[image[\"Background\"]] += 1\n",
    "    leaderpunk_count[image[\"LeaderPunk\"]] += 1\n",
    "    circle_count[image[\"Circle\"]] += 1\n",
    "    square_count[image[\"Square\"]] += 1\n",
    "    \n",
    "print(background_count)\n",
    "print(leaderpunk_count)\n",
    "print(circle_count)\n",
    "print(square_count)\n"
   ],
   "outputs": [
    {
     "output_type": "stream",
     "name": "stdout",
     "text": [
      "{'Blue': 1, 'Baby-Blue': 0, 'Bright-Pink': 0, 'Bright-Purple': 1, 'Bright-Red': 0, 'Bright-Violet': 2, 'Dark-Green': 2, 'Dark-Lilac': 2, 'Dark-Pink': 3, 'Dirt': 0, 'Gray': 1, 'Green': 1, 'Light-Blue': 1, 'Light-Dirt': 0, 'Light-Yellow': 2, 'Lilac': 0, 'Lime-Green': 1, 'Mint': 0, 'Ochre': 2, 'Orange': 3, 'Pastel-Blue': 0, 'Pastel-Lilac': 0, 'Pastel-Orange': 1, 'Pastel-Purple': 1, 'Pastel-Violet': 3, 'Pink': 0, 'Purple': 0, 'Red': 1, 'Sunshine-Yellow': 1, 'Toxic-Green': 0, 'White': 0, 'Wine-Red': 1, 'Yellow': 0}\n",
      "{'LeaderPunk': 30}\n",
      "{'Blue': 10, 'Green': 15, 'Orange': 3, 'Red': 1, 'Yellow': 1}\n",
      "{'Blue': 12, 'Green': 11, 'Orange': 4, 'Red': 0, 'Yellow': 3}\n"
     ]
    }
   ],
   "metadata": {}
  },
  {
   "cell_type": "code",
   "execution_count": 63,
   "source": [
    "#### Generate Metadata for all Traits \n",
    "METADATA_FILE_NAME = './metadata/all-traits.json'; \n",
    "with open(METADATA_FILE_NAME, 'w') as outfile:\n",
    "    json.dump(all_images, outfile, indent=4)"
   ],
   "outputs": [],
   "metadata": {}
  },
  {
   "cell_type": "code",
   "execution_count": 64,
   "source": [
    "  \n",
    "    \n",
    "#### Generate Images    \n",
    "for item in all_images:\n",
    "\n",
    "    im1 = Image.open(f'./trait-layers/backgrounds/{background_files[item[\"Background\"]]}.png').convert('RGBA')\n",
    "    im2 = Image.open(f'./trait-layers/leaderpunk/{leaderpunk_files[item[\"LeaderPunk\"]]}.png').convert('RGBA')\n",
    "    im3 = Image.open(f'./trait-layers/circles/{circle_files[item[\"Circle\"]]}.png').convert('RGBA')\n",
    "    im4 = Image.open(f'./trait-layers/squares/{square_files[item[\"Square\"]]}.png').convert('RGBA')\n",
    "\n",
    "    #Create each composite\n",
    "    com1 = Image.alpha_composite(im1, im2)\n",
    "    com2 = Image.alpha_composite(im3, im4)\n",
    "    com3 = Image.alpha_composite(com1, com2)\n",
    "\n",
    "\n",
    "    #Convert to RGB\n",
    "    rgb_im = com3.convert('RGBA')\n",
    "    file_name = str(item[\"tokenId\"]) + \".png\"\n",
    "    rgb_im.save(\"./images/\" + file_name)\n",
    "    \n",
    "    \n",
    "    \n"
   ],
   "outputs": [],
   "metadata": {}
  },
  {
   "cell_type": "code",
   "execution_count": null,
   "source": [
    "#### Generate Metadata for each Image    \n",
    "\n",
    "f = open('./metadata/all-traits.json',) \n",
    "data = json.load(f)\n",
    "\n",
    "\n",
    "IMAGES_BASE_URI = \"ADD_IMAGES_BASE_URI_HERE\"\n",
    "PROJECT_NAME = \"ADD_PROJECT_NAME_HERE\"\n",
    "\n",
    "def getAttribute(key, value):\n",
    "    return {\n",
    "        \"trait_type\": key,\n",
    "        \"value\": value\n",
    "    }\n",
    "for i in data:\n",
    "    token_id = i['tokenId']\n",
    "    token = {\n",
    "        \"image\": IMAGES_BASE_URI + str(token_id) + '.png',\n",
    "        \"tokenId\": token_id,\n",
    "        \"name\": PROJECT_NAME + ' ' + str(token_id),\n",
    "        \"attributes\": []\n",
    "    }\n",
    "    token[\"attributes\"].append(getAttribute(\"Background\", i[\"Background\"]))\n",
    "    token[\"attributes\"].append(getAttribute(\"LeaderPunk\", i[\"LeaderPunk\"]))\n",
    "    token[\"attributes\"].append(getAttribute(\"Circle\", i[\"Circle\"]))\n",
    "    token[\"attributes\"].append(getAttribute(\"Square\", i[\"Square\"]))\n",
    "\n",
    "    with open('./metadata/' + str(token_id), 'w') as outfile:\n",
    "        json.dump(token, outfile, indent=4)\n",
    "f.close()\n"
   ],
   "outputs": [],
   "metadata": {}
  },
  {
   "cell_type": "code",
   "execution_count": null,
   "source": [],
   "outputs": [],
   "metadata": {}
  }
 ],
 "metadata": {
  "kernelspec": {
   "name": "python3",
   "display_name": "Python 3.9.7 64-bit"
  },
  "language_info": {
   "codemirror_mode": {
    "name": "ipython",
    "version": 3
   },
   "file_extension": ".py",
   "mimetype": "text/x-python",
   "name": "python",
   "nbconvert_exporter": "python",
   "pygments_lexer": "ipython3",
   "version": "3.9.7"
  },
  "interpreter": {
   "hash": "767d51c1340bd893661ea55ea3124f6de3c7a262a8b4abca0554b478b1e2ff90"
  }
 },
 "nbformat": 4,
 "nbformat_minor": 4
}